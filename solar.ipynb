{
 "cells": [
  {
   "cell_type": "code",
   "execution_count": 5,
   "metadata": {},
   "outputs": [],
   "source": [
    "import config\n",
    "from selenium import webdriver\n",
    "from selenium.webdriver.common.by import By\n",
    "from selenium.webdriver.support.ui import WebDriverWait\n",
    "from selenium.webdriver.support import expected_conditions as EC\n",
    "from selenium.webdriver.chrome.options import Options"
   ]
  },
  {
   "cell_type": "code",
   "execution_count": null,
   "metadata": {},
   "outputs": [],
   "source": []
  },
  {
   "cell_type": "code",
   "execution_count": 6,
   "metadata": {},
   "outputs": [
    {
     "name": "stdout",
     "output_type": "stream",
     "text": [
      "FIMER\n"
     ]
    }
   ],
   "source": [
    "chrome_options = Options()\n",
    "chrome_options.add_argument('--no-sandbox')\n",
    "chrome_options.add_argument('--headless')\n",
    "driver = webdriver.Chrome(options=chrome_options)\n",
    "driver.get(config.login_url)\n",
    "print(driver.title)\n"
   ]
  },
  {
   "cell_type": "code",
   "execution_count": 7,
   "metadata": {},
   "outputs": [
    {
     "name": "stdout",
     "output_type": "stream",
     "text": [
      "Percentuale batterie: 0.0%\n",
      "Fotovoltaico: 0.0 kW\n",
      "Batterie: 0.0 kW\n",
      "Rete: 0.6 kW\n",
      "Data/ora: Nov 29, 2021 11:26:37 PM\n"
     ]
    }
   ],
   "source": [
    "username_textbox=WebDriverWait(driver,5).until(EC.element_to_be_clickable((By.NAME,\"username\")))\n",
    "username_textbox.send_keys(config.username)\n",
    "password_textbox=WebDriverWait(driver,3).until(EC.element_to_be_clickable((By.NAME,\"password\")))\n",
    "password_textbox.send_keys(config.password)\n",
    "login_button=WebDriverWait(driver,3).until(EC.element_to_be_clickable((By.ID,\"login-btn\")))\n",
    "login_button.click()\n",
    "\n",
    "\n",
    "battery_percentage = WebDriverWait(driver, 20).until(EC.visibility_of_element_located((By.ID, 'TSoc_value')))\n",
    "print(\"Percentuale batterie: \"+battery_percentage.text+\"%\")\n",
    "photovoltaic_measure = WebDriverWait(driver, 5).until(EC.visibility_of_element_located((By.ID, 'photovoltaic-measure')))\n",
    "print(\"Fotovoltaico: \"+photovoltaic_measure.text)\n",
    "battery_measure = WebDriverWait(driver, 5).until(EC.visibility_of_element_located((By.ID, 'battery-measure')))\n",
    "print(\"Batterie: \"+battery_measure.text)\n",
    "grid_measure = WebDriverWait(driver, 5).until(EC.visibility_of_element_located((By.ID, 'grid-measure')))\n",
    "print(\"Rete: \"+grid_measure.text)\n",
    "date = WebDriverWait(driver, 20).until(EC.visibility_of_element_located((By.CSS_SELECTOR, 'div[class=\"c-card-header-timestamp\"] cux-card-timestamp')))\n",
    "print(\"Data/ora: \"+date.text)\n"
   ]
  },
  {
   "cell_type": "code",
   "execution_count": 8,
   "metadata": {},
   "outputs": [],
   "source": [
    "driver.stop_client()\n",
    "driver.close()\n",
    "driver.quit()\n"
   ]
  }
 ],
 "metadata": {
  "interpreter": {
   "hash": "397704579725e15f5c7cb49fe5f0341eb7531c82d19f2c29d197e8b64ab5776b"
  },
  "kernelspec": {
   "display_name": "Python 3.9.0 64-bit",
   "language": "python",
   "name": "python3"
  },
  "language_info": {
   "codemirror_mode": {
    "name": "ipython",
    "version": 3
   },
   "file_extension": ".py",
   "mimetype": "text/x-python",
   "name": "python",
   "nbconvert_exporter": "python",
   "pygments_lexer": "ipython3",
   "version": "3.9.0"
  },
  "orig_nbformat": 4
 },
 "nbformat": 4,
 "nbformat_minor": 2
}
