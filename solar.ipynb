{
 "cells": [
  {
   "cell_type": "code",
   "execution_count": 69,
   "metadata": {},
   "outputs": [],
   "source": [
    "import config\n",
    "import requests\n",
    "from selenium import webdriver\n",
    "from selenium.webdriver.common.by import By\n",
    "from selenium.webdriver.support.ui import WebDriverWait\n",
    "from selenium.webdriver.support import expected_conditions as EC\n",
    "from selenium.webdriver.chrome.options import Options\n",
    "\n",
    "def send_msg(text):\n",
    "   token = config.token\n",
    "   chat_id = config.chatID\n",
    "   url_req = \"https://api.telegram.org/bot\" + token + \"/sendMessage\" + \"?chat_id=\" + chat_id + \"&text=\" + text \n",
    "   response = requests.get(url_req)\n",
    "   print(response.json())"
   ]
  },
  {
   "cell_type": "code",
   "execution_count": 70,
   "metadata": {},
   "outputs": [
    {
     "name": "stdout",
     "output_type": "stream",
     "text": [
      "FIMER\n"
     ]
    }
   ],
   "source": [
    "chrome_options = Options()\n",
    "chrome_options.add_argument('--no-sandbox')\n",
    "chrome_options.add_argument('--headless')\n",
    "driver = webdriver.Chrome(options=chrome_options)\n",
    "driver.get(config.login_url)\n",
    "print(driver.title)\n"
   ]
  },
  {
   "cell_type": "code",
   "execution_count": 71,
   "metadata": {},
   "outputs": [
    {
     "name": "stdout",
     "output_type": "stream",
     "text": [
      "{'ok': True, 'result': {'message_id': 76, 'from': {'id': 2134323777, 'is_bot': True, 'first_name': 'python_dylzenbot', 'username': 'python_dylzenBot'}, 'chat': {'id': 24366361, 'first_name': 'Dylan', 'username': 'dylzen', 'type': 'private'}, 'date': 1638485625, 'text': 'Percentuale batterie: 4.0%\\nFotovoltaico IN: 0.0 kW\\nConsumo da batterie: 0.0 kW\\nConsumo da ENEL: 0.5 kW\\nStato globale: Wait Sun/Grid\\nStato inverter: Checking Grid\\nData/ora: Dec 2, 2021 11:55:37 PM'}}\n"
     ]
    }
   ],
   "source": [
    "username_textbox=WebDriverWait(driver,5).until(EC.element_to_be_clickable((By.NAME,\"username\")))\n",
    "username_textbox.send_keys(config.username)\n",
    "password_textbox=WebDriverWait(driver,3).until(EC.element_to_be_clickable((By.NAME,\"password\")))\n",
    "password_textbox.send_keys(config.password)\n",
    "login_button=WebDriverWait(driver,3).until(EC.element_to_be_clickable((By.ID,\"login-btn\")))\n",
    "login_button.click()\n",
    "\n",
    "battery_percentage = WebDriverWait(driver, 20).until(EC.visibility_of_element_located((By.ID, 'TSoc_value')))\n",
    "battery_percentage_text = battery_percentage.text\n",
    "battery_percentage_float = float(battery_percentage.text)\n",
    "photovoltaic_measure = WebDriverWait(driver, 5).until(EC.visibility_of_element_located((By.ID, 'photovoltaic-measure')))\n",
    "battery_measure = WebDriverWait(driver, 5).until(EC.visibility_of_element_located((By.ID, 'battery-measure')))\n",
    "grid_measure = WebDriverWait(driver, 5).until(EC.visibility_of_element_located((By.ID, 'grid-measure')))\n",
    "global_state = WebDriverWait(driver, 5).until(EC.visibility_of_element_located((By.ID, 'GlobState_value')))\n",
    "inverter_state = WebDriverWait(driver, 5).until(EC.visibility_of_element_located((By.ID, 'InvState_value')))\n",
    "date = WebDriverWait(driver, 20).until(EC.visibility_of_element_located((By.CSS_SELECTOR, 'div[class=\"c-card-header-timestamp\"] cux-card-timestamp')))\n",
    "\n",
    "battery_percentage_string = \"Percentuale batterie: \"+battery_percentage.text+\"%\"\n",
    "photovoltaic_measure_string = \"Energia da fotovoltaico: \"+photovoltaic_measure.text\n",
    "battery_measure_string = \"Consumo da batterie: \"+battery_measure.text\n",
    "grid_measure_string = \"Consumo da ENEL: \"+grid_measure.text\n",
    "global_state_string = \"Stato globale: \"+global_state.text\n",
    "inverter_state_string = \"Stato inverter: \"+inverter_state.text\n",
    "date_string = \"Data/ora: \"+date.text\n",
    "\n",
    "if battery_percentage_float <= 20.1 or battery_percentage_float >= 79.9:\n",
    "    send_msg(battery_percentage_string+\"\\n\"+photovoltaic_measure_string+\"\\n\"+battery_measure_string+\"\\n\"+grid_measure_string+\"\\n\"+global_state_string+\"\\n\"+inverter_state_string+\"\\n\"+date_string)\n",
    "else:\n",
    "    send_msg(\"Batterie tra 20 e 80\")\n"
   ]
  },
  {
   "cell_type": "markdown",
   "metadata": {},
   "source": [
    "TODO: Messaggio telegram quando sotto o sopra soglia batteria"
   ]
  },
  {
   "cell_type": "code",
   "execution_count": 72,
   "metadata": {},
   "outputs": [],
   "source": [
    "driver.stop_client()\n",
    "driver.close()\n",
    "driver.quit()"
   ]
  },
  {
   "cell_type": "code",
   "execution_count": null,
   "metadata": {},
   "outputs": [],
   "source": []
  }
 ],
 "metadata": {
  "interpreter": {
   "hash": "397704579725e15f5c7cb49fe5f0341eb7531c82d19f2c29d197e8b64ab5776b"
  },
  "kernelspec": {
   "display_name": "Python 3.9.0 64-bit",
   "language": "python",
   "name": "python3"
  },
  "language_info": {
   "codemirror_mode": {
    "name": "ipython",
    "version": 3
   },
   "file_extension": ".py",
   "mimetype": "text/x-python",
   "name": "python",
   "nbconvert_exporter": "python",
   "pygments_lexer": "ipython3",
   "version": "3.8.10"
  },
  "orig_nbformat": 4
 },
 "nbformat": 4,
 "nbformat_minor": 2
}
